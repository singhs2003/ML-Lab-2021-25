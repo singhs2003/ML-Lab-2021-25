{
 "cells": [
  {
   "cell_type": "markdown",
   "id": "9b2b1a5c-dd0a-4ca3-9a0e-08fe43ab3054",
   "metadata": {},
   "source": [
    "# About Jupyter Notebook"
   ]
  },
  {
   "cell_type": "markdown",
   "id": "20997727-a79b-43c4-b841-861cda19a2ff",
   "metadata": {},
   "source": [
    "<img src=\"data:image/jpeg;base64,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\" />)\r\n"
   ]
  },
  {
   "cell_type": "markdown",
   "id": "19197da9-45b0-40f3-abe8-2697be8b352a",
   "metadata": {},
   "source": [
    "Jupyter Notebook is an open-source web application that allows you to create and share documents that contain live code, equations, visualizations, and narrative text. It's widely used in data science, scientific computing, machine learning, and education.\n",
    "\n",
    "Here's how you can install Jupyter Notebook:\n",
    "\n",
    "Installing via Anaconda (recommended):\n",
    "Anaconda is a Python distribution that comes pre-packaged with many scientific computing libraries, including Jupyter Notebook.\n",
    "\n",
    "Download Anaconda from the official website: https://www.anaconda.com/products/distribution\n",
    "Follow the installation instructions provided for your operating system.\n",
    "After installation, you can launch Jupyter Notebook by opening the Anaconda Navigator and clicking on the Jupyter icon, or by running the command jupyter notebook in your terminal or command prompt.\n",
    "Installing via pip:\n",
    "If you prefer to use pip, Python's package manager, you can install Jupyter Notebook directly into your Python environment.\n",
    "\n",
    "Open your terminal or command prompt.\n",
    "Run the following command:\n",
    "Copy code\n",
    "pip install notebook\n",
    "After installation, you can start Jupyter Notebook by running the command jupyter notebook in your terminal or command prompt.\n",
    "Installing via conda:\n",
    "If you have Anaconda or Miniconda installed, you can also install Jupyter Notebook using conda, Anaconda's package manager.\n",
    "\n",
    "Open your terminal or command prompt.\n",
    "Run the following command:\n",
    "r\n",
    "Copy code\n",
    "conda install -c conda-forge notebook\n",
    "After installation, you can start Jupyter Notebook by running the command jupyter notebook in your terminal or command prompt.\n",
    "Regardless of the installation method you choose, once Jupyter Notebook is installed, it will open in your default web browser, allowing you to create new notebooks, run code cells, and interact with your data. You can create Python, R, Julia, and other types of notebooks depending on the kernels you have installed."
   ]
  },
  {
   "cell_type": "code",
   "execution_count": 6,
   "id": "a3234c64-f8d6-4510-99b6-20078c0b1cbf",
   "metadata": {},
   "outputs": [
    {
     "data": {
      "text/plain": [
       "-8"
      ]
     },
     "execution_count": 6,
     "metadata": {},
     "output_type": "execute_result"
    }
   ],
   "source": [
    "4-12"
   ]
  },
  {
   "cell_type": "markdown",
   "id": "f0322823-8451-4607-a48c-6bc41b2b007d",
   "metadata": {},
   "source": [
    "# Favourite programming languages\n"
   ]
  },
  {
   "cell_type": "markdown",
   "id": "f2630dc4-c530-48de-98d4-302a9cd61ae1",
   "metadata": {},
   "source": [
    "Python"
   ]
  },
  {
   "cell_type": "markdown",
   "id": "3cf5b649-d7a9-462a-ba44-116424266afc",
   "metadata": {},
   "source": [
    "C++"
   ]
  },
  {
   "cell_type": "markdown",
   "id": "b913f9f8-81d0-4cd1-992e-388969594b75",
   "metadata": {},
   "source": [
    "Java"
   ]
  },
  {
   "cell_type": "code",
   "execution_count": 9,
   "id": "f5c20b1c-5837-49ef-b636-6f13344f7b30",
   "metadata": {},
   "outputs": [
    {
     "name": "stdin",
     "output_type": "stream",
     "text": [
      "Enter number 4\n"
     ]
    },
    {
     "name": "stdout",
     "output_type": "stream",
     "text": [
      "24\n"
     ]
    }
   ],
   "source": [
    "def factorial(n):\n",
    " fac = 1\n",
    " for i in range(1,n+1):\n",
    "     fac *= i\n",
    " return fac\n",
    "n = int(input(\"Enter number\"))\n",
    "print(factorial(n))\n"
   ]
  },
  {
   "cell_type": "code",
   "execution_count": 11,
   "id": "0fa8381b-4a78-4824-bf2a-f6acacb63704",
   "metadata": {},
   "outputs": [
    {
     "name": "stdout",
     "output_type": "stream",
     "text": [
      "median = 3.5\n",
      "mean = 5.0\n"
     ]
    }
   ],
   "source": [
    "import numpy as np\n",
    "a = np.array([11, 2, 3, 4])\n",
    "print(\"median =\",np.median(a))\n",
    "print(\"mean =\",np.mean(a))\n"
   ]
  },
  {
   "cell_type": "code",
   "execution_count": 12,
   "id": "75550ed7-1c3d-4702-a000-326270c57eb0",
   "metadata": {},
   "outputs": [
    {
     "data": {
      "application/vnd.jupyter.widget-view+json": {
       "model_id": "e56d21fd74914cfe92dc4efa96b04207",
       "version_major": 2,
       "version_minor": 0
      },
      "text/plain": [
       "IntSlider(value=0, max=10)"
      ]
     },
     "execution_count": 12,
     "metadata": {},
     "output_type": "execute_result"
    }
   ],
   "source": [
    "import ipywidgets as widgets\n",
    "slider = widgets.IntSlider(min=0, max=10, step=1)\n",
    "slider"
   ]
  },
  {
   "cell_type": "code",
   "execution_count": 16,
   "id": "78ce6c06-7477-4e9c-a13e-b3853a067a2a",
   "metadata": {},
   "outputs": [
    {
     "data": {
      "image/png": "[encoded data removed]",
      "text/plain": [
       "<Figure size 640x480 with 1 Axes>"
      ]
     },
     "metadata": {},
     "output_type": "display_data"
    }
   ],
   "source": [
    "import matplotlib.pyplot as plt\n",
    "xpoints = np.array([5, 8])\n",
    "ypoints = np.array([2, 4])\n",
    "plt.scatter(3,slider.value,c=\"Red\")\n",
    "plt.plot(xpoints, ypoints)\n",
    "plt.show()\n"
   ]
  },
  {
   "cell_type": "code",
   "execution_count": 17,
   "id": "d7985221-81d8-4bb0-812b-f6153e679a7f",
   "metadata": {},
   "outputs": [
    {
     "name": "stdout",
     "output_type": "stream",
     "text": [
      "Namaskar\n",
      "Hello\n"
     ]
    }
   ],
   "source": [
    "import time\n",
    "print(\"Namaskar\")\n",
    "time.sleep(10)\n",
    "print(\"Hello\")"
   ]
  },
  {
   "cell_type": "code",
   "execution_count": null,
   "id": "f2a45479-327b-4128-9f38-27bfdd06a1ee",
   "metadata": {},
   "outputs": [],
   "source": []
  }
 ],
 "metadata": {
  "kernelspec": {
   "display_name": "Python 3 (ipykernel)",
   "language": "python",
   "name": "python3"
  },
  "language_info": {
   "codemirror_mode": {
    "name": "ipython",
    "version": 3
   },
   "file_extension": ".py",
   "mimetype": "text/x-python",
   "name": "python",
   "nbconvert_exporter": "python",
   "pygments_lexer": "ipython3",
   "version": "3.11.2"
  }
 },
 "nbformat": 4,
 "nbformat_minor": 5
}
